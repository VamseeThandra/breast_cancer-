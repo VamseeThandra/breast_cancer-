{
 "cells": [
  {
   "cell_type": "code",
   "execution_count": 1,
   "id": "9d4d1d5c",
   "metadata": {},
   "outputs": [],
   "source": [
    "import numpy as np\n",
    "import math\n",
    "from sklearn.model_selection import KFold\n",
    "import random"
   ]
  },
  {
   "cell_type": "code",
   "execution_count": 4,
   "id": "effb7f8b",
   "metadata": {},
   "outputs": [
    {
     "name": "stdout",
     "output_type": "stream",
     "text": [
      "['no-recurrence-events,30-39,premeno,30-34,0-2,no,3,left,left_low,no', 'no-recurrence-events,40-49,premeno,20-24,0-2,no,2,right,right_up,no', 'no-recurrence-events,40-49,premeno,20-24,0-2,no,2,left,left_low,no', 'no-recurrence-events,60-69,ge40,15-19,0-2,no,2,right,left_up,no', 'no-recurrence-events,40-49,premeno,0-4,0-2,no,2,right,right_low,no', 'no-recurrence-events,60-69,ge40,15-19,0-2,no,2,left,left_low,no', 'no-recurrence-events,50-59,premeno,25-29,0-2,no,2,left,left_low,no', 'no-recurrence-events,60-69,ge40,20-24,0-2,no,1,left,left_low,no', 'no-recurrence-events,40-49,premeno,50-54,0-2,no,2,left,left_low,no', 'no-recurrence-events,40-49,premeno,20-24,0-2,no,2,right,left_up,no']\n",
      "data has been loaded successfully\n"
     ]
    }
   ],
   "source": [
    "#Read the data\n",
    "file=open('breast-cancer.data','r')\n",
    "rows=file.read()\n",
    "rows=rows.split('\\n')\n",
    "#deleting unwanted dat strings\n",
    "rows.pop()\n",
    "print(rows[0:10])\n",
    "print('data has been loaded successfully')"
   ]
  },
  {
   "cell_type": "code",
   "execution_count": 6,
   "id": "a3fcf6d7",
   "metadata": {},
   "outputs": [],
   "source": [
    "# initialising list for pre-defined values for indices\n",
    "cls=['no-recurrence-events','recurrence-events']\n",
    "age=['10-19', '20-29', '30-39', '40-49', '50-59', '60-69', '70-79', '80-89', '90-99']\n",
    "menopause=['lt40', 'ge40', 'premeno']\n",
    "size_of_tumer=['0-4', '5-9', '10-14', '15-19', '20-24', '25-29', '30-34', '35-39', '40-44','45-49', '50-54', '55-59']\n",
    "inv_nodes=['0-2', '3-5', '6-8', '9-11', '12-14', '15-17', '18-20', '21-23', '24-26','27-29', '30-32', '33-35', '36-39']\n",
    "node_caps=['yes','no']\n",
    "breast=['left','right']\n",
    "breast_quad=['left_up', 'left_low', 'right_up','right_low', 'central']"
   ]
  },
  {
   "cell_type": "code",
   "execution_count": 19,
   "id": "177d1307",
   "metadata": {},
   "outputs": [],
   "source": [
    "def data_preprocess(row):\n",
    "    row_data=list(row.split(','))\n",
    "    row_data[0]=cls.index(row_data[0])+1\n",
    "    row_data[1]=age.index(row_data[1])+1\n",
    "    row_data[2]=menopause.index(row_data[2])+1\n",
    "    row_data[3]=size_of_tumer.index(row_data[3])+1\n",
    "    row_data[4]=inv_nodes.index(row_data[4])+1\n",
    "    \n",
    "    if row_data[5] != '?':\n",
    "\n",
    "        row_data[5]=node_caps.index(row_data[5])+1\n",
    "\n",
    "    else:\n",
    "\n",
    "        row_data[5]=0\n",
    "\n",
    "    row_data[6]=int(row_data[6])\n",
    "\n",
    "    row_data[7]=breast.index(row_data[7])+1\n",
    "\n",
    "    if row_data[8] != '?':\n",
    "\n",
    "        row_data[8]=breast_quad.index(row_data[8])+1\n",
    "\n",
    "    else:\n",
    "\n",
    "        row_data[8]=0\n",
    "\n",
    "    row_data[9]=node_caps.index(row_data[9])+1\n",
    "    return row_data"
   ]
  },
  {
   "cell_type": "code",
   "execution_count": 8,
   "id": "ce4f6d23",
   "metadata": {},
   "outputs": [
    {
     "data": {
      "text/plain": [
       "[[1, 3, 3, 7, 1, 2, 3, 1, 2, 2],\n",
       " [1, 4, 3, 5, 1, 2, 2, 2, 3, 2],\n",
       " [1, 4, 3, 5, 1, 2, 2, 1, 2, 2],\n",
       " [1, 6, 2, 4, 1, 2, 2, 2, 1, 2],\n",
       " [1, 4, 3, 1, 1, 2, 2, 2, 4, 2],\n",
       " [1, 6, 2, 4, 1, 2, 2, 1, 2, 2],\n",
       " [1, 5, 3, 6, 1, 2, 2, 1, 2, 2],\n",
       " [1, 6, 2, 5, 1, 2, 1, 1, 2, 2],\n",
       " [1, 4, 3, 11, 1, 2, 2, 1, 2, 2],\n",
       " [1, 4, 3, 5, 1, 2, 2, 2, 1, 2]]"
      ]
     },
     "execution_count": 8,
     "metadata": {},
     "output_type": "execute_result"
    }
   ],
   "source": [
    "#preprocessing the data by row\n",
    "dataset = []\n",
    "for row in rows:\n",
    "    dataset.append(data_preprocess(row))\n",
    "dataset[0:10]"
   ]
  },
  {
   "cell_type": "code",
   "execution_count": 9,
   "id": "8d697527",
   "metadata": {},
   "outputs": [],
   "source": [
    "#separate data by class\n",
    "def separate_data_by_class(dataset):\n",
    "    data_seg = {}\n",
    "    for dt in dataset: \n",
    "        cls = dt[0]\n",
    "        if cls not in data_seg:\n",
    "            data_seg[cls] = []\n",
    "        data_seg[cls].append(dt)\n",
    "    return data_seg"
   ]
  },
  {
   "cell_type": "code",
   "execution_count": 21,
   "id": "8dd65b4f",
   "metadata": {},
   "outputs": [],
   "source": [
    "# data summarization\n",
    "def summarize_data(dataset):\n",
    "    summary = [(np.mean(col),np.std(col),len(col)) for col in zip(*dataset)]\n",
    "    del summary[0]\n",
    "    return summary"
   ]
  },
  {
   "cell_type": "code",
   "execution_count": 11,
   "id": "927fd878",
   "metadata": {},
   "outputs": [],
   "source": [
    "# data summarizatioinstd by class\n",
    "def summarizing_data_by_cls(dataset):\n",
    "    data_seg = separate_data_by_class(dataset)\n",
    "    data_summaries ={}\n",
    "    for cls , row in data_seg.items():\n",
    "        data_summaries[cls] = summarize_data(row)\n",
    "    return data_summaries"
   ]
  },
  {
   "cell_type": "code",
   "execution_count": 12,
   "id": "ca0b0be9",
   "metadata": {},
   "outputs": [],
   "source": [
    "# gaussian implementation\n",
    "def gaussian(x,mean,std):\n",
    "    try:\n",
    "        gaussian=(1/(std*math.sqrt(2*math.pi)))*(math.exp(-(x-mean)**2/(2*std**2)))\n",
    "        return gaussian\n",
    "    except:\n",
    "        return 0.01\n"
   ]
  },
  {
   "cell_type": "code",
   "execution_count": 13,
   "id": "ab4c7949",
   "metadata": {},
   "outputs": [],
   "source": [
    "# gaussian by class \n",
    "def gaussian_by_cls(data_summaries,row):\n",
    "    probs={}\n",
    "    no_of_rows= sum([data_summaries[x][0][2] for x in data_summaries])\n",
    "    for cls,cls_summaries in data_summaries.items():\n",
    "        probs[cls]= 1\n",
    "        for i in range(len(cls_summaries)):\n",
    "            probs[cls]+=math.log(gaussian(row[i],cls_summaries[i][0],cls_summaries[i][1]))\n",
    "    return probs\n"
   ]
  },
  {
   "cell_type": "code",
   "execution_count": 14,
   "id": "dd531829",
   "metadata": {},
   "outputs": [],
   "source": [
    "# predicting cls row wise\n",
    "def predict(cls_summaries, row):\n",
    "    probs=gaussian_by_cls(cls_summaries,row)\n",
    "    best_cls, best_prob = None ,-1\n",
    "    for cls, prob in probs.items():\n",
    "        if best_cls==None or prob>best_prob:\n",
    "            best_cls,best_prob=cls,prob \n",
    "    return best_cls"
   ]
  },
  {
   "cell_type": "code",
   "execution_count": 15,
   "id": "6d837058",
   "metadata": {},
   "outputs": [],
   "source": [
    "#acuuracy of the value\n",
    "def accuracy(actual,predict):\n",
    "    crct_count= len([i for i,j in zip(actual,predict) if i==j])\n",
    "    acc=crct_count/float(len(actual))*100\n",
    "    return acc"
   ]
  },
  {
   "cell_type": "code",
   "execution_count": 16,
   "id": "1c838378",
   "metadata": {},
   "outputs": [],
   "source": [
    "#navie_bayes\n",
    "def navie_bayes(train, test):\n",
    "    cls_summaries = summarizing_data_by_cls(train)\n",
    "    predictions=[]\n",
    "    for r in test:\n",
    "        predictions.append(predict(cls_summaries,row))\n",
    "    return predictions\n",
    "        "
   ]
  },
  {
   "cell_type": "code",
   "execution_count": 17,
   "id": "a7ad99e0",
   "metadata": {},
   "outputs": [],
   "source": [
    "#K_folds\n",
    "def K_fold_splits(dataset, no_of_splits):\n",
    "    size_of_fold=int(len(dataset)/no_of_splits)\n",
    "    copy_dataset= list(dataset)\n",
    "    folds=[]\n",
    "    for _ in range(no_of_splits):\n",
    "        fold=[]\n",
    "        while len(fold)<size_of_fold:\n",
    "            r_idx= random.randrange(len(copy_dataset))\n",
    "            fold.append(copy_dataset.pop(r_idx))\n",
    "        folds.append(fold)\n",
    "    return folds"
   ]
  },
  {
   "cell_type": "code",
   "execution_count": 20,
   "id": "edf26d60",
   "metadata": {},
   "outputs": [
    {
     "name": "stdout",
     "output_type": "stream",
     "text": [
      "dataset length: 286\n",
      "In 10 folds test\n",
      "length of train data: 252\n",
      "length of test data: 28\n",
      "length of train data: 252\n",
      "length of test data: 28\n",
      "length of train data: 252\n",
      "length of test data: 28\n",
      "length of train data: 252\n",
      "length of test data: 28\n",
      "length of train data: 252\n",
      "length of test data: 28\n",
      "length of train data: 252\n",
      "length of test data: 28\n",
      "length of train data: 252\n",
      "length of test data: 28\n",
      "length of train data: 252\n",
      "length of test data: 28\n",
      "length of train data: 252\n",
      "length of test data: 28\n",
      "length of train data: 252\n",
      "length of test data: 28\n",
      "model_accuracy: 76.42857142857142\n"
     ]
    }
   ],
   "source": [
    "print('dataset length:',len(dataset))\n",
    "no_of_folds =10\n",
    "print('In',no_of_folds,'folds test')\n",
    "folds =K_fold_splits(dataset, no_of_folds)\n",
    "accuracies =[]\n",
    "for fold in folds:\n",
    "    train = list(folds)\n",
    "    train.remove (fold)\n",
    "    train_set = []\n",
    "    for idx in range(len(train)):\n",
    "        train_set= train_set + train[idx]\n",
    "    actual_set= []\n",
    "    for row in fold:\n",
    "        actual_set.append(row[-1])\n",
    "    test_set=[]\n",
    "    for row in fold:\n",
    "        test_set.append(row)\n",
    "    print('length of train data:',len(train_set))\n",
    "    print('length of test data:',len(test_set))\n",
    "    predict_set =  navie_bayes(train_set, test_set)\n",
    "    accuracies.append(accuracy(actual_set,predict_set))\n",
    "print('model_accuracy:', np.mean(accuracies))"
   ]
  },
  {
   "cell_type": "code",
   "execution_count": null,
   "id": "f5e80b12",
   "metadata": {},
   "outputs": [],
   "source": []
  }
 ],
 "metadata": {
  "kernelspec": {
   "display_name": "Python 3 (ipykernel)",
   "language": "python",
   "name": "python3"
  },
  "language_info": {
   "codemirror_mode": {
    "name": "ipython",
    "version": 3
   },
   "file_extension": ".py",
   "mimetype": "text/x-python",
   "name": "python",
   "nbconvert_exporter": "python",
   "pygments_lexer": "ipython3",
   "version": "3.9.7"
  }
 },
 "nbformat": 4,
 "nbformat_minor": 5
}
